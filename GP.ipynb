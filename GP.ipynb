{
  "nbformat": 4,
  "nbformat_minor": 0,
  "metadata": {
    "colab": {
      "provenance": []
    },
    "kernelspec": {
      "name": "python3",
      "display_name": "Python 3"
    },
    "language_info": {
      "name": "python"
    }
  },
  "cells": [
    {
      "cell_type": "code",
      "source": [
        "from google.colab import drive\n",
        "drive.mount('/content/drive')"
      ],
      "metadata": {
        "colab": {
          "base_uri": "https://localhost:8080/"
        },
        "id": "eez4I2uw8IGN",
        "outputId": "36506a64-1d7b-4aca-e8ce-88d703c72f2b"
      },
      "execution_count": 1,
      "outputs": [
        {
          "output_type": "stream",
          "name": "stdout",
          "text": [
            "Drive already mounted at /content/drive; to attempt to forcibly remount, call drive.mount(\"/content/drive\", force_remount=True).\n"
          ]
        }
      ]
    },
    {
      "cell_type": "code",
      "source": [
        "import pandas as pd  # For data manipulation and analysis\n",
        "import matplotlib.pyplot as plt  # For data visualization\n",
        "import seaborn as sns  # For enhanced statistical visualizations\n",
        "import cv2  # OpenCV for image processing\n",
        "import os  # For interacting with the operating system\n",
        "import numpy as np  # For numerical operations"
      ],
      "metadata": {
        "id": "Zbq7R8J38Tl3"
      },
      "execution_count": 2,
      "outputs": []
    },
    {
      "cell_type": "code",
      "source": [
        "import zipfile\n",
        "\n",
        "zip_file_path = '/content/drive/My Drive/GPF.zip'\n",
        "csv_file_name = 'ArSL_Data_Labels.csv'\n",
        "image_dir_name = 'ArASL_Database_54K_Final'"
      ],
      "metadata": {
        "id": "x8A9rrM28aaS"
      },
      "execution_count": 3,
      "outputs": []
    },
    {
      "cell_type": "code",
      "source": [
        "with zipfile.ZipFile(zip_file_path, 'r') as zip_ref:\n",
        "    zip_ref.extract(csv_file_name)  # Extracing the CSV file\n",
        "    for file in zip_ref.namelist():\n",
        "        if file.startswith(image_dir_name):  # Extracting all files from the image directory\n",
        "            zip_ref.extract(file)"
      ],
      "metadata": {
        "id": "vg4B8gE_8rli"
      },
      "execution_count": 4,
      "outputs": []
    },
    {
      "cell_type": "code",
      "source": [
        "csv_file_path = csv_file_name\n",
        "image_dir = image_dir_name"
      ],
      "metadata": {
        "id": "SP-1KhJ_9Ypl"
      },
      "execution_count": 5,
      "outputs": []
    },
    {
      "cell_type": "code",
      "source": [
        "df = pd.read_csv(csv_file_path)"
      ],
      "metadata": {
        "id": "3AnJC_OA9dVm"
      },
      "execution_count": 6,
      "outputs": []
    },
    {
      "cell_type": "code",
      "source": [
        "df.head()"
      ],
      "metadata": {
        "colab": {
          "base_uri": "https://localhost:8080/",
          "height": 206
        },
        "id": "7ugGNe5ILk8M",
        "outputId": "5661c314-6a52-41ce-f800-22418873ccf9"
      },
      "execution_count": 7,
      "outputs": [
        {
          "output_type": "execute_result",
          "data": {
            "text/plain": [
              "   #       File_Name Class\n",
              "0  1     AIN (1).JPG   ain\n",
              "1  2    AIN (10).JPG   ain\n",
              "2  3   AIN (100).jpg   ain\n",
              "3  4  AIN (1000).JPG   ain\n",
              "4  5  AIN (1001).JPG   ain"
            ],
            "text/html": [
              "\n",
              "  <div id=\"df-a14d2fa1-8300-4fa9-a539-4abe0c8238b6\" class=\"colab-df-container\">\n",
              "    <div>\n",
              "<style scoped>\n",
              "    .dataframe tbody tr th:only-of-type {\n",
              "        vertical-align: middle;\n",
              "    }\n",
              "\n",
              "    .dataframe tbody tr th {\n",
              "        vertical-align: top;\n",
              "    }\n",
              "\n",
              "    .dataframe thead th {\n",
              "        text-align: right;\n",
              "    }\n",
              "</style>\n",
              "<table border=\"1\" class=\"dataframe\">\n",
              "  <thead>\n",
              "    <tr style=\"text-align: right;\">\n",
              "      <th></th>\n",
              "      <th>#</th>\n",
              "      <th>File_Name</th>\n",
              "      <th>Class</th>\n",
              "    </tr>\n",
              "  </thead>\n",
              "  <tbody>\n",
              "    <tr>\n",
              "      <th>0</th>\n",
              "      <td>1</td>\n",
              "      <td>AIN (1).JPG</td>\n",
              "      <td>ain</td>\n",
              "    </tr>\n",
              "    <tr>\n",
              "      <th>1</th>\n",
              "      <td>2</td>\n",
              "      <td>AIN (10).JPG</td>\n",
              "      <td>ain</td>\n",
              "    </tr>\n",
              "    <tr>\n",
              "      <th>2</th>\n",
              "      <td>3</td>\n",
              "      <td>AIN (100).jpg</td>\n",
              "      <td>ain</td>\n",
              "    </tr>\n",
              "    <tr>\n",
              "      <th>3</th>\n",
              "      <td>4</td>\n",
              "      <td>AIN (1000).JPG</td>\n",
              "      <td>ain</td>\n",
              "    </tr>\n",
              "    <tr>\n",
              "      <th>4</th>\n",
              "      <td>5</td>\n",
              "      <td>AIN (1001).JPG</td>\n",
              "      <td>ain</td>\n",
              "    </tr>\n",
              "  </tbody>\n",
              "</table>\n",
              "</div>\n",
              "    <div class=\"colab-df-buttons\">\n",
              "\n",
              "  <div class=\"colab-df-container\">\n",
              "    <button class=\"colab-df-convert\" onclick=\"convertToInteractive('df-a14d2fa1-8300-4fa9-a539-4abe0c8238b6')\"\n",
              "            title=\"Convert this dataframe to an interactive table.\"\n",
              "            style=\"display:none;\">\n",
              "\n",
              "  <svg xmlns=\"http://www.w3.org/2000/svg\" height=\"24px\" viewBox=\"0 -960 960 960\">\n",
              "    <path d=\"M120-120v-720h720v720H120Zm60-500h600v-160H180v160Zm220 220h160v-160H400v160Zm0 220h160v-160H400v160ZM180-400h160v-160H180v160Zm440 0h160v-160H620v160ZM180-180h160v-160H180v160Zm440 0h160v-160H620v160Z\"/>\n",
              "  </svg>\n",
              "    </button>\n",
              "\n",
              "  <style>\n",
              "    .colab-df-container {\n",
              "      display:flex;\n",
              "      gap: 12px;\n",
              "    }\n",
              "\n",
              "    .colab-df-convert {\n",
              "      background-color: #E8F0FE;\n",
              "      border: none;\n",
              "      border-radius: 50%;\n",
              "      cursor: pointer;\n",
              "      display: none;\n",
              "      fill: #1967D2;\n",
              "      height: 32px;\n",
              "      padding: 0 0 0 0;\n",
              "      width: 32px;\n",
              "    }\n",
              "\n",
              "    .colab-df-convert:hover {\n",
              "      background-color: #E2EBFA;\n",
              "      box-shadow: 0px 1px 2px rgba(60, 64, 67, 0.3), 0px 1px 3px 1px rgba(60, 64, 67, 0.15);\n",
              "      fill: #174EA6;\n",
              "    }\n",
              "\n",
              "    .colab-df-buttons div {\n",
              "      margin-bottom: 4px;\n",
              "    }\n",
              "\n",
              "    [theme=dark] .colab-df-convert {\n",
              "      background-color: #3B4455;\n",
              "      fill: #D2E3FC;\n",
              "    }\n",
              "\n",
              "    [theme=dark] .colab-df-convert:hover {\n",
              "      background-color: #434B5C;\n",
              "      box-shadow: 0px 1px 3px 1px rgba(0, 0, 0, 0.15);\n",
              "      filter: drop-shadow(0px 1px 2px rgba(0, 0, 0, 0.3));\n",
              "      fill: #FFFFFF;\n",
              "    }\n",
              "  </style>\n",
              "\n",
              "    <script>\n",
              "      const buttonEl =\n",
              "        document.querySelector('#df-a14d2fa1-8300-4fa9-a539-4abe0c8238b6 button.colab-df-convert');\n",
              "      buttonEl.style.display =\n",
              "        google.colab.kernel.accessAllowed ? 'block' : 'none';\n",
              "\n",
              "      async function convertToInteractive(key) {\n",
              "        const element = document.querySelector('#df-a14d2fa1-8300-4fa9-a539-4abe0c8238b6');\n",
              "        const dataTable =\n",
              "          await google.colab.kernel.invokeFunction('convertToInteractive',\n",
              "                                                    [key], {});\n",
              "        if (!dataTable) return;\n",
              "\n",
              "        const docLinkHtml = 'Like what you see? Visit the ' +\n",
              "          '<a target=\"_blank\" href=https://colab.research.google.com/notebooks/data_table.ipynb>data table notebook</a>'\n",
              "          + ' to learn more about interactive tables.';\n",
              "        element.innerHTML = '';\n",
              "        dataTable['output_type'] = 'display_data';\n",
              "        await google.colab.output.renderOutput(dataTable, element);\n",
              "        const docLink = document.createElement('div');\n",
              "        docLink.innerHTML = docLinkHtml;\n",
              "        element.appendChild(docLink);\n",
              "      }\n",
              "    </script>\n",
              "  </div>\n",
              "\n",
              "\n",
              "<div id=\"df-f29852ed-e2f2-46d4-ae7f-f39d73a0b5dd\">\n",
              "  <button class=\"colab-df-quickchart\" onclick=\"quickchart('df-f29852ed-e2f2-46d4-ae7f-f39d73a0b5dd')\"\n",
              "            title=\"Suggest charts\"\n",
              "            style=\"display:none;\">\n",
              "\n",
              "<svg xmlns=\"http://www.w3.org/2000/svg\" height=\"24px\"viewBox=\"0 0 24 24\"\n",
              "     width=\"24px\">\n",
              "    <g>\n",
              "        <path d=\"M19 3H5c-1.1 0-2 .9-2 2v14c0 1.1.9 2 2 2h14c1.1 0 2-.9 2-2V5c0-1.1-.9-2-2-2zM9 17H7v-7h2v7zm4 0h-2V7h2v10zm4 0h-2v-4h2v4z\"/>\n",
              "    </g>\n",
              "</svg>\n",
              "  </button>\n",
              "\n",
              "<style>\n",
              "  .colab-df-quickchart {\n",
              "      --bg-color: #E8F0FE;\n",
              "      --fill-color: #1967D2;\n",
              "      --hover-bg-color: #E2EBFA;\n",
              "      --hover-fill-color: #174EA6;\n",
              "      --disabled-fill-color: #AAA;\n",
              "      --disabled-bg-color: #DDD;\n",
              "  }\n",
              "\n",
              "  [theme=dark] .colab-df-quickchart {\n",
              "      --bg-color: #3B4455;\n",
              "      --fill-color: #D2E3FC;\n",
              "      --hover-bg-color: #434B5C;\n",
              "      --hover-fill-color: #FFFFFF;\n",
              "      --disabled-bg-color: #3B4455;\n",
              "      --disabled-fill-color: #666;\n",
              "  }\n",
              "\n",
              "  .colab-df-quickchart {\n",
              "    background-color: var(--bg-color);\n",
              "    border: none;\n",
              "    border-radius: 50%;\n",
              "    cursor: pointer;\n",
              "    display: none;\n",
              "    fill: var(--fill-color);\n",
              "    height: 32px;\n",
              "    padding: 0;\n",
              "    width: 32px;\n",
              "  }\n",
              "\n",
              "  .colab-df-quickchart:hover {\n",
              "    background-color: var(--hover-bg-color);\n",
              "    box-shadow: 0 1px 2px rgba(60, 64, 67, 0.3), 0 1px 3px 1px rgba(60, 64, 67, 0.15);\n",
              "    fill: var(--button-hover-fill-color);\n",
              "  }\n",
              "\n",
              "  .colab-df-quickchart-complete:disabled,\n",
              "  .colab-df-quickchart-complete:disabled:hover {\n",
              "    background-color: var(--disabled-bg-color);\n",
              "    fill: var(--disabled-fill-color);\n",
              "    box-shadow: none;\n",
              "  }\n",
              "\n",
              "  .colab-df-spinner {\n",
              "    border: 2px solid var(--fill-color);\n",
              "    border-color: transparent;\n",
              "    border-bottom-color: var(--fill-color);\n",
              "    animation:\n",
              "      spin 1s steps(1) infinite;\n",
              "  }\n",
              "\n",
              "  @keyframes spin {\n",
              "    0% {\n",
              "      border-color: transparent;\n",
              "      border-bottom-color: var(--fill-color);\n",
              "      border-left-color: var(--fill-color);\n",
              "    }\n",
              "    20% {\n",
              "      border-color: transparent;\n",
              "      border-left-color: var(--fill-color);\n",
              "      border-top-color: var(--fill-color);\n",
              "    }\n",
              "    30% {\n",
              "      border-color: transparent;\n",
              "      border-left-color: var(--fill-color);\n",
              "      border-top-color: var(--fill-color);\n",
              "      border-right-color: var(--fill-color);\n",
              "    }\n",
              "    40% {\n",
              "      border-color: transparent;\n",
              "      border-right-color: var(--fill-color);\n",
              "      border-top-color: var(--fill-color);\n",
              "    }\n",
              "    60% {\n",
              "      border-color: transparent;\n",
              "      border-right-color: var(--fill-color);\n",
              "    }\n",
              "    80% {\n",
              "      border-color: transparent;\n",
              "      border-right-color: var(--fill-color);\n",
              "      border-bottom-color: var(--fill-color);\n",
              "    }\n",
              "    90% {\n",
              "      border-color: transparent;\n",
              "      border-bottom-color: var(--fill-color);\n",
              "    }\n",
              "  }\n",
              "</style>\n",
              "\n",
              "  <script>\n",
              "    async function quickchart(key) {\n",
              "      const quickchartButtonEl =\n",
              "        document.querySelector('#' + key + ' button');\n",
              "      quickchartButtonEl.disabled = true;  // To prevent multiple clicks.\n",
              "      quickchartButtonEl.classList.add('colab-df-spinner');\n",
              "      try {\n",
              "        const charts = await google.colab.kernel.invokeFunction(\n",
              "            'suggestCharts', [key], {});\n",
              "      } catch (error) {\n",
              "        console.error('Error during call to suggestCharts:', error);\n",
              "      }\n",
              "      quickchartButtonEl.classList.remove('colab-df-spinner');\n",
              "      quickchartButtonEl.classList.add('colab-df-quickchart-complete');\n",
              "    }\n",
              "    (() => {\n",
              "      let quickchartButtonEl =\n",
              "        document.querySelector('#df-f29852ed-e2f2-46d4-ae7f-f39d73a0b5dd button');\n",
              "      quickchartButtonEl.style.display =\n",
              "        google.colab.kernel.accessAllowed ? 'block' : 'none';\n",
              "    })();\n",
              "  </script>\n",
              "</div>\n",
              "\n",
              "    </div>\n",
              "  </div>\n"
            ],
            "application/vnd.google.colaboratory.intrinsic+json": {
              "type": "dataframe",
              "variable_name": "df",
              "summary": "{\n  \"name\": \"df\",\n  \"rows\": 54049,\n  \"fields\": [\n    {\n      \"column\": \"#\",\n      \"properties\": {\n        \"dtype\": \"number\",\n        \"std\": 15602,\n        \"min\": 1,\n        \"max\": 54049,\n        \"num_unique_values\": 54049,\n        \"samples\": [\n          17449,\n          16774,\n          30752\n        ],\n        \"semantic_type\": \"\",\n        \"description\": \"\"\n      }\n    },\n    {\n      \"column\": \"File_Name\",\n      \"properties\": {\n        \"dtype\": \"string\",\n        \"num_unique_values\": 54049,\n        \"samples\": [\n          \"GHAIN (877).JPG\",\n          \"GHAIN (269).jpg\",\n          \"MEEM (795).JPG\"\n        ],\n        \"semantic_type\": \"\",\n        \"description\": \"\"\n      }\n    },\n    {\n      \"column\": \"Class\",\n      \"properties\": {\n        \"dtype\": \"category\",\n        \"num_unique_values\": 32,\n        \"samples\": [\n          \"ya\",\n          \"la\",\n          \"taa\"\n        ],\n        \"semantic_type\": \"\",\n        \"description\": \"\"\n      }\n    }\n  ]\n}"
            }
          },
          "metadata": {},
          "execution_count": 7
        }
      ]
    },
    {
      "cell_type": "code",
      "source": [
        "print(\"the dataframe (csv file) has 3 columns:\")\n",
        "print(\"# : this column shows the data point number.\")\n",
        "print(\"File_Name : this column shows the file name corresponding to its class as a .jpg file. each file is a photo of an alphabet in its sign language symbol.\")\n",
        "print(\"Class : this column shows the alphabet as a class of the corresponding file.\")\n"
      ],
      "metadata": {
        "colab": {
          "base_uri": "https://localhost:8080/"
        },
        "id": "L9uHW1keMQ44",
        "outputId": "4a211923-c8a2-4e08-f941-ea3948790570"
      },
      "execution_count": 8,
      "outputs": [
        {
          "output_type": "stream",
          "name": "stdout",
          "text": [
            "the dataframe (csv file) has 3 columns:\n",
            "# : this column shows the data point number.\n",
            "File_Name : this column shows the file name corresponding to its class as a .jpg file. each file is a photo of an alphabet in its sign language symbol.\n",
            "Class : this column shows the alphabet as a class of the corresponding file.\n"
          ]
        }
      ]
    },
    {
      "cell_type": "code",
      "source": [
        "# EDA: Class Distribution\n",
        "class_counts = df['Class'].value_counts()\n",
        "\n",
        "plt.figure(figsize=(10, 6))\n",
        "sns.countplot(x='Class', data=df, order=class_counts.index)\n",
        "plt.title('Class Distribution of ArSL Signs')\n",
        "plt.xlabel('Sign Label (Class)')\n",
        "plt.ylabel('Number of Images')\n",
        "plt.xticks(rotation=45, ha='right')\n",
        "plt.show()\n",
        "\n",
        "print(\"Class Counts:\\n\", class_counts)"
      ],
      "metadata": {
        "colab": {
          "base_uri": "https://localhost:8080/",
          "height": 1000
        },
        "id": "3ibKAr5O-Ltl",
        "outputId": "7d678613-0055-43c8-9694-8abe7a361aee"
      },
      "execution_count": 9,
      "outputs": [
        {
          "output_type": "display_data",
          "data": {
            "text/plain": [
              "<Figure size 1000x600 with 1 Axes>"
            ],
            "image/png": "[encoded data removed]"
          },
          "metadata": {}
        },
        {
          "output_type": "stream",
          "name": "stdout",
          "text": [
            "Class Counts:\n",
            " Class\n",
            "ain      2114\n",
            "ghain    1977\n",
            "fa       1955\n",
            "saad     1895\n",
            "taa      1838\n",
            "laam     1832\n",
            "nun      1819\n",
            "ta       1816\n",
            "toot     1791\n",
            "bb       1791\n",
            "kaaf     1774\n",
            "thaa     1766\n",
            "meem     1765\n",
            "la       1746\n",
            "dha      1723\n",
            "ya       1722\n",
            "gaaf     1705\n",
            "aleff    1672\n",
            "dhad     1670\n",
            "ra       1659\n",
            "seen     1638\n",
            "dal      1634\n",
            "khaa     1607\n",
            "ha       1592\n",
            "thal     1582\n",
            "jeem     1552\n",
            "haa      1526\n",
            "sheen    1507\n",
            "zay      1374\n",
            "waw      1371\n",
            "al       1343\n",
            "yaa      1293\n",
            "Name: count, dtype: int64\n"
          ]
        }
      ]
    },
    {
      "cell_type": "code",
      "source": [
        "min_class_count = class_counts.min()\n",
        "max_class_count = class_counts.max()\n",
        "\n",
        "print(f\"Minimum Class Count: {min_class_count}\")\n",
        "print(f\"Maximum Class Count: {max_class_count}\")"
      ],
      "metadata": {
        "colab": {
          "base_uri": "https://localhost:8080/"
        },
        "id": "HVWeHNk0__qT",
        "outputId": "8d113921-82ca-48ba-8d3a-611d6d6c106f"
      },
      "execution_count": 10,
      "outputs": [
        {
          "output_type": "stream",
          "name": "stdout",
          "text": [
            "Minimum Class Count: 1293\n",
            "Maximum Class Count: 2114\n"
          ]
        }
      ]
    },
    {
      "cell_type": "code",
      "source": [
        "print(\"the difference between the maximum class count and the minimum class count is 821 (less than a factor of 2)\")"
      ],
      "metadata": {
        "colab": {
          "base_uri": "https://localhost:8080/"
        },
        "id": "OP3eFIw6SUV2",
        "outputId": "01485403-22a6-4dfe-d21e-5fae9915ccec"
      },
      "execution_count": 15,
      "outputs": [
        {
          "output_type": "stream",
          "name": "stdout",
          "text": [
            "the difference between the maximum class count and the minimum class count is 821 (less than a factor of 2)\n"
          ]
        }
      ]
    },
    {
      "cell_type": "code",
      "source": [
        "num_classes = len(class_counts)\n",
        "print(f\"Number of Classes: {num_classes}\")"
      ],
      "metadata": {
        "colab": {
          "base_uri": "https://localhost:8080/"
        },
        "id": "bWoB76BPBIB1",
        "outputId": "33946eff-2025-4afc-e0a9-fe174e4a4bca"
      },
      "execution_count": 11,
      "outputs": [
        {
          "output_type": "stream",
          "name": "stdout",
          "text": [
            "Number of Classes: 32\n"
          ]
        }
      ]
    },
    {
      "cell_type": "code",
      "source": [
        "print(\"we can see that the 28 Arabic alphabets are the values under the Class column with 4 additional alpahebet mixes and forms that are frequently used in the Arabic language which are:\")\n",
        "print(\"al (ال)\")\n",
        "print(\"la (لا)\")\n",
        "print(\"toot (ة)\")\n",
        "print(\"ya (ئ)\")"
      ],
      "metadata": {
        "colab": {
          "base_uri": "https://localhost:8080/"
        },
        "id": "TPFyKu-iSK8w",
        "outputId": "b55a32d8-93f4-491b-85b1-06f7ed25f28f"
      },
      "execution_count": 14,
      "outputs": [
        {
          "output_type": "stream",
          "name": "stdout",
          "text": [
            "we can see that the 28 Arabic alphabets are the values under the Class column with 4 additional alpahebet mixes and forms that are frequently used in the Arabic language which are:\n",
            "al (ال)\n",
            "la (لا)\n",
            "toot (ة)\n",
            "ya (ئ)\n"
          ]
        }
      ]
    },
    {
      "cell_type": "code",
      "source": [
        "print('Conclusion: The dataset exhibits some level of class imbalance, where certain classes (alphabets) have a larger number of associated images than others. This imbalance could potentially introduce a bias in the model, making it more accurate in predicting the more frequent classes while having lower accuracy for the less frequent ones.')"
      ],
      "metadata": {
        "colab": {
          "base_uri": "https://localhost:8080/"
        },
        "id": "ZIdg-kNTBKA-",
        "outputId": "498a4579-04b3-469e-bd55-db65956e5e98"
      },
      "execution_count": 12,
      "outputs": [
        {
          "output_type": "stream",
          "name": "stdout",
          "text": [
            "Conclusion: The dataset exhibits some level of class imbalance, where certain classes (alphabets) have a larger number of associated images than others. This imbalance could potentially introduce a bias in the model, making it more accurate in predicting the more frequent classes while having lower accuracy for the less frequent ones.\n"
          ]
        }
      ]
    }
  ]
}